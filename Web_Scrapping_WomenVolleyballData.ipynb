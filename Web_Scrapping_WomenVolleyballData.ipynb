{
  "nbformat": 4,
  "nbformat_minor": 0,
  "metadata": {
    "colab": {
      "provenance": []
    },
    "kernelspec": {
      "name": "python3",
      "display_name": "Python 3"
    },
    "language_info": {
      "name": "python"
    }
  },
  "cells": [
    {
      "cell_type": "code",
      "execution_count": 1,
      "metadata": {
        "id": "sUjUWCZecB7C"
      },
      "outputs": [],
      "source": [
        "import requests\n",
        "from bs4 import BeautifulSoup\n",
        "import pandas as pd\n",
        "import numpy as np\n",
        "import matplotlib.pyplot as plt\n",
        "import seaborn as sns"
      ]
    },
    {
      "cell_type": "code",
      "source": [
        "def scrape_athlete_data(url):\n",
        "    \"\"\"Scrapes athlete names and heights from a given URL.\n",
        "\n",
        "    Args:\n",
        "        url (str): The URL of the roster page.\n",
        "\n",
        "    Returns:\n",
        "        pd.DataFrame: A DataFrame containing athlete names and heights, or None if an error occurs.\n",
        "    \"\"\"\n",
        "\n",
        "    try:\n",
        "        response = requests.get(url)\n",
        "        soup = BeautifulSoup(response.content, 'html.parser')\n",
        "\n",
        "        raw_heights = soup.find_all('td', class_='height')\n",
        "        raw_names = soup.find_all('td', class_='sidearm-table-player-name')\n",
        "\n",
        "        if not raw_heights or not raw_names:\n",
        "            return None\n",
        "\n",
        "        heights = []\n",
        "        names = []\n",
        "        for height, name in zip(raw_heights, raw_names):\n",
        "            height_str = height.text.strip()\n",
        "            if height_str:\n",
        "                if '-' in height_str:\n",
        "                    try:\n",
        "                        feet, inches = map(float, height_str.split('-'))\n",
        "                        height_in_inches = feet * 12 + inches\n",
        "                        heights.append(height_in_inches)\n",
        "                    except ValueError:\n",
        "                        print(f\"Invalid height format for {name.text}: {height_str}\")\n",
        "                        heights.append(None)\n",
        "                else:\n",
        "                    print(f\"Unexpected height format for {name.text}: {height_str}\")\n",
        "                    heights.append(None)\n",
        "            else:\n",
        "                # Handle missing height values\n",
        "                heights.append(None)\n",
        "            names.append(name.text.strip())\n",
        "\n",
        "        athletes = {'Name': names, 'Height': heights}\n",
        "        return pd.DataFrame(athletes)\n",
        "    except Exception as e:\n",
        "        print(f\"Error scraping {url}: {e}\")\n",
        "        return None\n",
        "\n",
        "def main():\n",
        "    # List of URLs for women's volleyball teams\n",
        "    women_volleyball_urls = [\n",
        "    'https://bmccathletics.com/sports/womens-volleyball/roster',\n",
        "    'https://yorkathletics.com/sports/womens-volleyball/roster',\n",
        "    'https://hostosathletics.com/sports/womens-volleyball/roster',\n",
        "    'https://bronxbroncos.com/sports/womens-volleyball/roster/2021',\n",
        "    'https://queensknights.com/sports/womens-volleyball/roster',\n",
        "    'https://augustajags.com/sports/wvball/roster',\n",
        "    'https://flaglerathletics.com/sports/womens-volleyball/roster'\n",
        "    'https://pacersports.com/sports/womens-volleyball/roster',\n",
        "    'https://www.golhu.com/sports/womens-volleyball/roster',\n",
        "    ]\n",
        "\n",
        "    # Create an empty DataFrame to store all data\n",
        "    women_volleyball_data = pd.DataFrame(columns=['Name', 'Height'])\n",
        "\n",
        "    # Scrape data from each URL and handle errors\n",
        "    for url in women_volleyball_urls:\n",
        "        data = scrape_athlete_data(url)\n",
        "        if data is not None:\n",
        "            women_volleyball_data = pd.concat([women_volleyball_data, data], ignore_index=True)\n",
        "\n",
        "    # Save data to CSV file\n",
        "    women_volleyball_data.to_csv('women_volleyball_data.csv', index=False)\n",
        "\n",
        "if __name__ == '__main__':\n",
        "    main()"
      ],
      "metadata": {
        "colab": {
          "base_uri": "https://localhost:8080/"
        },
        "id": "XxWEmnfccKWR",
        "outputId": "e9e1386f-b33a-421e-d69b-c4d59cb0a232"
      },
      "execution_count": 2,
      "outputs": [
        {
          "output_type": "stream",
          "name": "stdout",
          "text": [
            "Invalid height format for \n",
            "Marie Claire Hurtado\n",
            ": -\n"
          ]
        }
      ]
    },
    {
      "cell_type": "markdown",
      "source": [
        "Data Loading and Data Cleaning"
      ],
      "metadata": {
        "id": "0glA62W-1zg-"
      }
    },
    {
      "cell_type": "code",
      "source": [
        "women_volleyball_data = pd.read_csv('women_volleyball_data.csv')\n",
        "women_volleyball_data = women_volleyball_data.dropna(subset=['Height'])"
      ],
      "metadata": {
        "id": "9n54AWew1z8t"
      },
      "execution_count": 3,
      "outputs": []
    },
    {
      "cell_type": "markdown",
      "source": [
        "Find the average height in each of the 4 dataframes (so you should have 4 averages in total). Print these values in your program"
      ],
      "metadata": {
        "id": "HLrsgyhT2CJR"
      }
    },
    {
      "cell_type": "code",
      "source": [
        "average_women_volleyball_height = women_volleyball_data['Height'].mean()\n",
        "average_women_volleyball_height = average_women_volleyball_height.round(2)\n",
        "print(f'Average height of women volleyball: {average_women_volleyball_height}')"
      ],
      "metadata": {
        "colab": {
          "base_uri": "https://localhost:8080/"
        },
        "id": "felYK5BI2E17",
        "outputId": "1569cc5b-fc94-4f81-abb3-89ab1a2fa884"
      },
      "execution_count": 4,
      "outputs": [
        {
          "output_type": "stream",
          "name": "stdout",
          "text": [
            "Average height of women volleyball: 66.98\n"
          ]
        }
      ]
    },
    {
      "cell_type": "markdown",
      "source": [
        "Find the names and the heights of the athletes with the 5 tallest and 5 shortest heights for both the men’s and women’s teams. Note: There could be ties among the athletes. For example, 8 athletes could have the top 5 tallest heights. You must have 8 lists in total: tallest men swimmers, tallest men volleyball players, tallest women swimmers, tallest women volleyball players, shortest men swimmers, shortest men volleyball players, shortest women volleyball players, shortest women swimmers. Print these names and heights ONLY in your program."
      ],
      "metadata": {
        "id": "T74iUnxH2NFC"
      }
    },
    {
      "cell_type": "code",
      "source": [
        "#tallest women volleyball\n",
        "sorted_women_volleyball = women_volleyball_data.sort_values(by = 'Height',ascending = False)\n",
        "top_5_heights_women = sorted_women_volleyball['Height'].unique()[:5]\n",
        "top_5_heights_women\n",
        "tallest_women_volleyball = sorted_women_volleyball[sorted_women_volleyball['Height'].isin(top_5_heights_women)]\n",
        "tallest_women_volleyball\n",
        "print(f'The top 5 heights of the women volleyball players:{top_5_heights_women}')\n",
        "print(f'The count of the number of players with top 5 heights:{tallest_women_volleyball.count()}')\n",
        "print(tallest_women_volleyball[['Name','Height']])"
      ],
      "metadata": {
        "colab": {
          "base_uri": "https://localhost:8080/"
        },
        "id": "fovG4gLl2Odi",
        "outputId": "929edadb-5f0c-4e85-cbc0-f3586e5c9fd8"
      },
      "execution_count": 5,
      "outputs": [
        {
          "output_type": "stream",
          "name": "stdout",
          "text": [
            "The top 5 heights of the women volleyball players:[75. 74. 73. 72. 71.]\n",
            "The count of the number of players with top 5 heights:Name      18\n",
            "Height    18\n",
            "dtype: int64\n",
            "                    Name  Height\n",
            "92          Alyssa Daley    75.0\n",
            "63        Sophia Kruczko    75.0\n",
            "68          Madelyn Eden    74.0\n",
            "70        Marin Freeland    74.0\n",
            "55    Lindsay Osterhoudt    73.0\n",
            "64           Lauren Posa    73.0\n",
            "67       Jada Suguturaga    73.0\n",
            "74         Jacklyn Simms    72.0\n",
            "14  Jachimma Onwuamaegbu    72.0\n",
            "95        Katrina Cowder    71.0\n",
            "86     Evie Jane Rembold    71.0\n",
            "54        Alicia Cervera    71.0\n",
            "58        Kendall Conrad    71.0\n",
            "65       Abigail LeVines    71.0\n",
            "51      Anjeline Arnakis    71.0\n",
            "87      Gracelynn Wolzen    71.0\n",
            "89          Gabby Gealey    71.0\n",
            "94      Kyleigh McDermit    71.0\n"
          ]
        }
      ]
    },
    {
      "cell_type": "code",
      "source": [
        "#shortest women volleyball\n",
        "sorted_women_volleyball = women_volleyball_data.sort_values(by = 'Height',ascending = True)\n",
        "shortest_5_heights_women = sorted_women_volleyball['Height'].unique()[:5]\n",
        "shortest_5_heights_women\n",
        "shortest_women_volleyball = sorted_women_volleyball[sorted_women_volleyball['Height'].isin(shortest_5_heights_women)]\n",
        "shortest_women_volleyball\n",
        "print(f'The shortest 5 heights of the women volleyball players:{shortest_5_heights_women}')\n",
        "print(f'The count of the number of players with shortest 5 heights:{shortest_women_volleyball.count()}')\n",
        "print(shortest_women_volleyball[['Name','Height']])"
      ],
      "metadata": {
        "colab": {
          "base_uri": "https://localhost:8080/"
        },
        "id": "RGEeJ7102fgq",
        "outputId": "915e978a-c2f7-42b8-9cdb-df807e5c606a"
      },
      "execution_count": 6,
      "outputs": [
        {
          "output_type": "stream",
          "name": "stdout",
          "text": [
            "The shortest 5 heights of the women volleyball players:[60. 61. 62. 63. 64.]\n",
            "The count of the number of players with shortest 5 heights:Name      27\n",
            "Height    27\n",
            "dtype: int64\n",
            "                    Name  Height\n",
            "26         Samara Correa    60.0\n",
            "1       Yisneily Morales    61.0\n",
            "4        Garyana Altidor    61.0\n",
            "34         Rashel Torres    61.0\n",
            "17         Jasmine  Vega    61.0\n",
            "71         Libby Nickels    61.0\n",
            "27       Genesis Sigaran    62.0\n",
            "39     Brianna Rodriguez    62.0\n",
            "81  Salma Villa  Morales    62.0\n",
            "16       Shamonie Miller    62.0\n",
            "24       Devina  Luckhoo    63.0\n",
            "59            Sarah Munn    63.0\n",
            "32          Nyla  Rivera    63.0\n",
            "72      Guilia Rodrigues    63.0\n",
            "36       Justine Pomales    63.0\n",
            "8          Teonnie Blake    63.0\n",
            "77         Kaitlyn Houck    63.0\n",
            "35      Marisabel Pujols    64.0\n",
            "9            Kamya Hayes    64.0\n",
            "33          Sahara Ramos    64.0\n",
            "38         Nicole  Rosas    64.0\n",
            "40  Maynee De Los Santos    64.0\n",
            "6    Cheyenne Gray-Taitt    64.0\n",
            "30          Natalie Mora    64.0\n",
            "93         Myka Costanzo    64.0\n",
            "29          Mariali Sosa    64.0\n",
            "0            Crystal Saw    64.0\n"
          ]
        }
      ]
    }
  ]
}