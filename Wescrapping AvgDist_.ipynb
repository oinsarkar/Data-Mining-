{
  "nbformat": 4,
  "nbformat_minor": 0,
  "metadata": {
    "colab": {
      "provenance": []
    },
    "kernelspec": {
      "name": "python3",
      "display_name": "Python 3"
    },
    "language_info": {
      "name": "python"
    }
  },
  "cells": [
    {
      "cell_type": "code",
      "source": [
        "import numpy as np\n",
        "import pandas as pd\n",
        "import matplotlib.pyplot as plt\n",
        "import seaborn as sns\n",
        "\n"
      ],
      "metadata": {
        "id": "v3kELz0Edm6n"
      },
      "execution_count": null,
      "outputs": []
    },
    {
      "cell_type": "markdown",
      "source": [
        "Data Loading and Data cleaning"
      ],
      "metadata": {
        "id": "fniZtFf4gwAc"
      }
    },
    {
      "cell_type": "code",
      "source": [
        "men_swimming_data = pd.read_csv('mens_swimming_data.csv')\n",
        "men_volleyball_data = pd.read_csv('mens_volleyball_data.csv')\n",
        "women_swimming_data = pd.read_csv('women_swimming_data.csv')\n",
        "women_volleyball_data = pd.read_csv('women_volleyball_data.csv')\n",
        "men_swimming_data = men_swimming_data.dropna(subset=['Height'])\n",
        "women_swimming_data = women_swimming_data.dropna(subset=['Height'])\n",
        "men_volleyball_data = men_volleyball_data.dropna(subset=['Height'])\n",
        "women_volleyball_data = women_volleyball_data.dropna(subset=['Height'])\n"
      ],
      "metadata": {
        "id": "ThG31gmFdwOz"
      },
      "execution_count": null,
      "outputs": []
    },
    {
      "cell_type": "markdown",
      "source": [
        "5. Find the average height in each of the 4 dataframes (so you should have 4 averages in\n",
        "total). Print these values in your program"
      ],
      "metadata": {
        "id": "-C6SYktNftm_"
      }
    },
    {
      "cell_type": "code",
      "source": [
        "average_men_swimming_height = men_swimming_data['Height'].mean()\n",
        "average_men_swimming_height = average_men_swimming_height.round(2)\n",
        "print(f'Average height of men swimming: {average_men_swimming_height}')\n",
        "average_women_swimming_height = women_swimming_data['Height'].mean()\n",
        "average_women_swimming_height = average_women_swimming_height.round(2)\n",
        "print(f'Average height of women swimming: {average_women_swimming_height}')\n",
        "average_men_volleyball_height = men_volleyball_data['Height'].mean()\n",
        "average_men_volleyball_height = average_men_volleyball_height.round(2)\n",
        "print(f'Average height of men volleyball: {average_men_volleyball_height}')\n",
        "average_women_volleyball_height = women_volleyball_data['Height'].mean()\n",
        "average_women_volleyball_height = average_women_volleyball_height.round(2)\n",
        "print(f'Average height of women volleyball: {average_women_volleyball_height}')\n"
      ],
      "metadata": {
        "colab": {
          "base_uri": "https://localhost:8080/"
        },
        "id": "T-NqE77We2RD",
        "outputId": "879d3735-b0df-4e15-d7c1-208367d30d0e"
      },
      "execution_count": null,
      "outputs": [
        {
          "output_type": "stream",
          "name": "stdout",
          "text": [
            "Average height of men swimming: 71.36\n",
            "Average height of women swimming: 65.86\n",
            "Average height of men volleyball: 72.46\n",
            "Average height of women volleyball: 66.98\n"
          ]
        }
      ]
    },
    {
      "cell_type": "markdown",
      "source": [],
      "metadata": {
        "id": "87z3JEsHIqq7"
      }
    },
    {
      "cell_type": "markdown",
      "source": [
        "6. Find the names and the heights of the athletes with the 5 tallest and 5 shortest heights\n",
        "for both the men’s and women’s teams. Note: There could be ties among the athletes.\n",
        "For example, 8 athletes could have the top 5 tallest heights. You must have 8 lists in\n",
        "total: tallest men swimmers, tallest men volleyball players, tallest women swimmers,\n",
        "tallest women volleyball players, shortest men swimmers, shortest men volleyball\n",
        "players, shortest women volleyball players, shortest women swimmers. Print these\n",
        "names and heights ONLY in your program."
      ],
      "metadata": {
        "id": "W1FCxbhHgNit"
      }
    },
    {
      "cell_type": "code",
      "source": [
        "#tallest men swimmers\n",
        "sorted_men_swimmers = men_swimming_data.sort_values(by = 'Height',ascending = False)\n",
        "top_5_heights_men = sorted_men_swimmers['Height'].unique()[:5]\n",
        "top_5_heights_men\n",
        "tallest_men_swimmers = sorted_men_swimmers[sorted_men_swimmers['Height'].isin(top_5_heights_men)]\n",
        "tallest_men_swimmers\n",
        "print(f'The top 5 heights of the men swimmers:{top_5_heights_men}')\n",
        "print(f'The count of the number of players with top 5 heights:{tallest_men_swimmers.count()}')\n",
        "print(tallest_men_swimmers[['Name','Height']])\n"
      ],
      "metadata": {
        "colab": {
          "base_uri": "https://localhost:8080/"
        },
        "id": "PIPDa3AgIetC",
        "outputId": "0ecb7d92-8912-47bb-e692-c89ea31f0771"
      },
      "execution_count": null,
      "outputs": [
        {
          "output_type": "stream",
          "name": "stdout",
          "text": [
            "The top 5 heights of the men swimmers:[79. 77. 76. 75. 74.]\n",
            "The count of the number of players with top 5 heights:Name      34\n",
            "Height    34\n",
            "dtype: int64\n",
            "                  Name  Height\n",
            "115        Tyson Upton    79.0\n",
            "92       Colton Grimes    79.0\n",
            "164         Eric Kroon    77.0\n",
            "26       Peter Gavroff    76.0\n",
            "75       Adam Szczerba    76.0\n",
            "180  Nicholas Griffith    76.0\n",
            "62   Mattia Giurgevich    76.0\n",
            "31      Bennett Maczka    76.0\n",
            "110     Matthew Stooke    76.0\n",
            "160      Brian Harding    76.0\n",
            "129          Joe Swede    75.0\n",
            "24   Youssef  Elkhouly    75.0\n",
            "150      Gavin Weseman    75.0\n",
            "108     Patryk Rozenek    75.0\n",
            "186   Peter Vanderwerf    75.0\n",
            "126          Jack Hill    75.0\n",
            "43     Ryan Badre-Hume    75.0\n",
            "167       Ryan Maierle    75.0\n",
            "82       Owen Brubaker    75.0\n",
            "175       Henry Shemet    75.0\n",
            "94        Ethan Hanson    75.0\n",
            "107     Nathan Pollard    74.0\n",
            "55      Isaac Zambrano    74.0\n",
            "112         Noah Tague    74.0\n",
            "56        Ryan Boeding    74.0\n",
            "120       Thomas Breen    74.0\n",
            "85      Patrick Cramer    74.0\n",
            "128        Tyler Moore    74.0\n",
            "165     Elijah Lanfear    74.0\n",
            "143   Cosmo Martinelli    74.0\n",
            "174     Robert Reining    74.0\n",
            "172    Matthew Palguta    74.0\n",
            "169        Justin Meyn    74.0\n",
            "67       Elliott Irwin    74.0\n"
          ]
        }
      ]
    },
    {
      "cell_type": "code",
      "source": [
        "#shortest men swimmers\n",
        "sorted_men_swimmers = men_swimming_data.sort_values(by = 'Height',ascending = True)\n",
        "shortest_5_heights_men = sorted_men_swimmers['Height'].unique()[:5]\n",
        "shortest_5_heights_men\n",
        "shortest_men_swimmers = sorted_men_swimmers[sorted_men_swimmers['Height'].isin(shortest_5_heights_men)]\n",
        "shortest_men_swimmers\n",
        "print(f'The shortest 5 heights of the men swimmers:{shortest_5_heights_men}')\n",
        "print(f'The count of the number of players with shortest 5 heights:{shortest_men_swimmers.count()}')\n",
        "print(shortest_men_swimmers[['Name','Height']])"
      ],
      "metadata": {
        "colab": {
          "base_uri": "https://localhost:8080/"
        },
        "id": "6QGYyn_qpiPU",
        "outputId": "fdb3d89a-74ef-41c7-a23a-e128cbd10f64"
      },
      "execution_count": null,
      "outputs": [
        {
          "output_type": "stream",
          "name": "stdout",
          "text": [
            "The shortest 5 heights of the men swimmers:[63. 64. 65. 66. 67.]\n",
            "The count of the number of players with shortest 5 heights:Name      15\n",
            "Height    15\n",
            "dtype: int64\n",
            "                  Name  Height\n",
            "89     Miles Fleischer    63.0\n",
            "2     Charles Cusumano    64.0\n",
            "97         Wyatt Kurtz    65.0\n",
            "53    Joseph Scarpetta    65.0\n",
            "122     Samuel De Leon    65.0\n",
            "20       Richard Reyes    66.0\n",
            "158   Christopher Egan    66.0\n",
            "125         AJ Guevara    66.0\n",
            "155    Zachary Ciriaco    66.0\n",
            "142   James  Llewellyn    66.0\n",
            "121      Tyler Canteen    66.0\n",
            "88      Mason Enthoven    67.0\n",
            "5        Eslam Hussein    67.0\n",
            "36   Gregory Terentyev    67.0\n",
            "14       Sam Rozenfeld    67.0\n"
          ]
        }
      ]
    },
    {
      "cell_type": "code",
      "source": [
        "#tallest men volleyball\n",
        "sorted_men_volleyball = men_volleyball_data.sort_values(by = 'Height',ascending = False)\n",
        "top_5_heights_men = sorted_men_volleyball['Height'].unique()[:5]\n",
        "top_5_heights_men\n",
        "tallest_men_volleyball = sorted_men_volleyball[sorted_men_volleyball['Height'].isin(top_5_heights_men)]\n",
        "tallest_men_volleyball\n",
        "print(f'The top 5 heights of the men volleyball players:{top_5_heights_men}')\n",
        "print(f'The count of the number of players with top 5 heights:{tallest_men_volleyball.count()}')\n",
        "print(tallest_men_volleyball[['Name','Height']])\n"
      ],
      "metadata": {
        "colab": {
          "base_uri": "https://localhost:8080/"
        },
        "id": "vVqA19_CWv0N",
        "outputId": "75ec2c39-2706-41de-a0d4-7e59aec1abfc"
      },
      "execution_count": null,
      "outputs": [
        {
          "output_type": "stream",
          "name": "stdout",
          "text": [
            "The top 5 heights of the men volleyball players:[82. 81. 79. 78. 77.]\n",
            "The count of the number of players with top 5 heights:Name      23\n",
            "Height    23\n",
            "dtype: int64\n",
            "                       Name  Height\n",
            "129         Will  Patterson    82.0\n",
            "130          Mateusz Karpow    81.0\n",
            "128          Patrick Rogers    79.0\n",
            "127  Braydon Savitski-Lynde    79.0\n",
            "93           Annes Deljanin    79.0\n",
            "54    Kyle Barriffe-Johnson    79.0\n",
            "114     Griffin Satterfield    79.0\n",
            "131         Peter  Zurawski    78.0\n",
            "121             Eyal Rawitz    78.0\n",
            "96             Jon Pflueger    78.0\n",
            "115         Trevor Phillips    78.0\n",
            "116          Vanis Buckholz    78.0\n",
            "118          Rodney Wallace    78.0\n",
            "117           Lucas Machado    78.0\n",
            "98       Matisse Lee-Maarek    78.0\n",
            "122               Dyer Ball    78.0\n",
            "126   Tinaishe Ndavazocheva    78.0\n",
            "69                Haoxin Hu    77.0\n",
            "33                Jason Lin    77.0\n",
            "102         Austinson Cooke    77.0\n",
            "120              Ryan Bartz    77.0\n",
            "89             Lucas George    77.0\n",
            "123           Marty Canavan    77.0\n"
          ]
        }
      ]
    },
    {
      "cell_type": "code",
      "source": [
        "#shortest men volleyball\n",
        "sorted_men_volleyball = men_volleyball_data.sort_values(by = 'Height',ascending = True)\n",
        "shortest_5_heights_men = sorted_men_volleyball['Height'].unique()[:5]\n",
        "shortest_5_heights_men\n",
        "shortest_men_volleyball = sorted_men_volleyball[sorted_men_volleyball['Height'].isin(shortest_5_heights_men)]\n",
        "shortest_men_volleyball\n",
        "print(f'The shortest 5 heights of the men volleyball players:{shortest_5_heights_men}')\n",
        "print(f'The count of the number of players with shortest 5 heights:{shortest_men_volleyball.count()}')\n",
        "print(shortest_men_volleyball[['Name','Height']])"
      ],
      "metadata": {
        "colab": {
          "base_uri": "https://localhost:8080/"
        },
        "id": "xIgRJiuVqtUk",
        "outputId": "64588b0b-4375-49e8-f8e9-29f9ebb10004"
      },
      "execution_count": null,
      "outputs": [
        {
          "output_type": "stream",
          "name": "stdout",
          "text": [
            "The shortest 5 heights of the men volleyball players:[63. 65. 66. 67. 68.]\n",
            "The count of the number of players with shortest 5 heights:Name      26\n",
            "Height    26\n",
            "dtype: int64\n",
            "                        Name  Height\n",
            "14               Chris  Mata    63.0\n",
            "27           Dion  Csikortos    65.0\n",
            "26                  Wai  Lin    65.0\n",
            "13   Joseph Gianfranco Teves    65.0\n",
            "79            Kayshaun Higgs    66.0\n",
            "25               Ali Zandani    66.0\n",
            "78             Patrick Mateo    66.0\n",
            "42             Benjamin Chen    66.0\n",
            "66                Naoki Tani    67.0\n",
            "19           Christian Agudo    67.0\n",
            "16               Jimmy Evans    67.0\n",
            "12             Ray Rodriguez    67.0\n",
            "82               Brandon Yeh    67.0\n",
            "7         David Reyes Galvez    67.0\n",
            "112              Xander Pink    67.0\n",
            "46            Evan Wandersee    68.0\n",
            "106         Stanley  Sanchez    68.0\n",
            "30                David Lema    68.0\n",
            "48   Daniel Gonzalez Verdejo    68.0\n",
            "43       Sebastian Rodriguez    68.0\n",
            "72              Carlos Abreu    68.0\n",
            "40             Micah Rossman    68.0\n",
            "104           Alexis Ramirez    68.0\n",
            "24               Kevin Seise    68.0\n",
            "2       Edwin Fierros Gaytan    68.0\n",
            "3               Anirudha Das    68.0\n"
          ]
        }
      ]
    },
    {
      "cell_type": "code",
      "source": [
        "#tallest women swimmers\n",
        "sorted_women_swimmers = women_swimming_data.sort_values(by = 'Height',ascending = False)\n",
        "top_5_heights_women = sorted_women_swimmers['Height'].unique()[:5]\n",
        "top_5_heights_women\n",
        "tallest_women_swimmers = sorted_women_swimmers[sorted_women_swimmers['Height'].isin(top_5_heights_women)]\n",
        "tallest_women_swimmers\n",
        "print(f'The top 5 heights of the women swimmers:{top_5_heights_women}')\n",
        "print(f'The count of the number of players with top 5 heights:{tallest_women_swimmers.count()}')\n",
        "print(tallest_women_swimmers[['Name','Height']])"
      ],
      "metadata": {
        "colab": {
          "base_uri": "https://localhost:8080/"
        },
        "id": "N36QawLRZgaq",
        "outputId": "f9bb1dfd-dc3f-4e29-dc96-ba53497b213d"
      },
      "execution_count": null,
      "outputs": [
        {
          "output_type": "stream",
          "name": "stdout",
          "text": [
            "The top 5 heights of the women swimmers:[75. 73. 72. 71. 70.]\n",
            "The count of the number of players with top 5 heights:Name      13\n",
            "Height    13\n",
            "dtype: int64\n",
            "                     Name  Height\n",
            "78         McKenzie Fazio    75.0\n",
            "66        Maja Piotrowicz    73.0\n",
            "40     Hebatallah Elkotby    72.0\n",
            "51        Kornelia Buszka    71.0\n",
            "83      Presley Heitzmann    71.0\n",
            "115           Grace Geyer    71.0\n",
            "94      Karley Sonnenberg    70.0\n",
            "58              Adi Luker    70.0\n",
            "60        Stephanie Marks    70.0\n",
            "91   Gabriela Novais Lima    70.0\n",
            "88          Victoria Maki    70.0\n",
            "96          Jocelyn Zgola    70.0\n",
            "102           Grace Korey    70.0\n"
          ]
        }
      ]
    },
    {
      "cell_type": "code",
      "source": [
        "#shortest women swimmers\n",
        "sorted_women_swimmers = women_swimming_data.sort_values(by = 'Height',ascending = True)\n",
        "shortest_5_heights_women = sorted_women_swimmers['Height'].unique()[:5]\n",
        "shortest_5_heights_women\n",
        "shortest_women_swimmers = sorted_women_swimmers[sorted_women_swimmers['Height'].isin(shortest_5_heights_women)]\n",
        "shortest_women_swimmers\n",
        "print(f'Theshortest 5 heights of the women swimmers:{shortest_5_heights_women}')\n",
        "print(f'The count of the number of players with shortest 5 heights:{shortest_women_swimmers.count()}')\n",
        "print(shortest_women_swimmers[['Name','Height']])"
      ],
      "metadata": {
        "colab": {
          "base_uri": "https://localhost:8080/"
        },
        "id": "L_FvmKvJrNMu",
        "outputId": "19ce5797-42f8-46b9-883e-700c25445efd"
      },
      "execution_count": null,
      "outputs": [
        {
          "output_type": "stream",
          "name": "stdout",
          "text": [
            "Theshortest 5 heights of the women swimmers:[58. 59. 61. 62. 63.]\n",
            "The count of the number of players with shortest 5 heights:Name      31\n",
            "Height    31\n",
            "dtype: int64\n",
            "                   Name  Height\n",
            "25          Julia Wyman    58.0\n",
            "24          Nakia Usher    58.0\n",
            "23    Melanie Rodriguez    59.0\n",
            "13           Asha Besaw    61.0\n",
            "104       Valeria Pages    61.0\n",
            "103      Camila Mercado    61.0\n",
            "19       Kristen Flores    61.0\n",
            "29           Amanda Lee    61.0\n",
            "116     Taylor Jacobson    61.0\n",
            "8         Deanna Soueid    62.0\n",
            "132     Cadence  Dudley    62.0\n",
            "22      Fatima Morrobel    62.0\n",
            "98      Julia Caramagna    62.0\n",
            "7     Kolleen Rodriguez    62.0\n",
            "106       Magdalen Swat    62.0\n",
            "126     Kylie Tininenko    62.0\n",
            "143        Sophia Olson    62.0\n",
            "30        Katherine Lee    62.0\n",
            "101           Maddy Joe    62.0\n",
            "100          Keila Fane    62.0\n",
            "108         Cami Yovich    62.0\n",
            "35             Amy Zeng    62.0\n",
            "62     Beata Maruszczyk    63.0\n",
            "81           Atzi Gomez    63.0\n",
            "77   Terrah DeLorimiere    63.0\n",
            "0    Aurelia Barbagallo    63.0\n",
            "27    Joscelyn  Galindo    63.0\n",
            "119       Abbie Masters    63.0\n",
            "18        Jillian Etnel    63.0\n",
            "16   Laura Cruz Rosario    63.0\n",
            "28          Dea Gazheli    63.0\n"
          ]
        }
      ]
    },
    {
      "cell_type": "code",
      "source": [
        "#tallest women volleyball\n",
        "sorted_women_volleyball = women_volleyball_data.sort_values(by = 'Height',ascending = False)\n",
        "top_5_heights_women = sorted_women_volleyball['Height'].unique()[:5]\n",
        "top_5_heights_women\n",
        "tallest_women_volleyball = sorted_women_volleyball[sorted_women_volleyball['Height'].isin(top_5_heights_women)]\n",
        "tallest_women_volleyball\n",
        "print(f'The top 5 heights of the women volleyball players:{top_5_heights_women}')\n",
        "print(f'The count of the number of players with top 5 heights:{tallest_women_volleyball.count()}')\n",
        "print(tallest_women_volleyball[['Name','Height']])"
      ],
      "metadata": {
        "colab": {
          "base_uri": "https://localhost:8080/"
        },
        "id": "aVR23z_wanbD",
        "outputId": "0c66d6b5-08b5-4c68-9d18-9e8e1b4de9a8"
      },
      "execution_count": null,
      "outputs": [
        {
          "output_type": "stream",
          "name": "stdout",
          "text": [
            "The top 5 heights of the women volleyball players:[75. 74. 73. 72. 71.]\n",
            "The count of the number of players with top 5 heights:Name      18\n",
            "Height    18\n",
            "dtype: int64\n",
            "                    Name  Height\n",
            "92          Alyssa Daley    75.0\n",
            "63        Sophia Kruczko    75.0\n",
            "68          Madelyn Eden    74.0\n",
            "70        Marin Freeland    74.0\n",
            "55    Lindsay Osterhoudt    73.0\n",
            "64           Lauren Posa    73.0\n",
            "67       Jada Suguturaga    73.0\n",
            "74         Jacklyn Simms    72.0\n",
            "14  Jachimma Onwuamaegbu    72.0\n",
            "95        Katrina Cowder    71.0\n",
            "86     Evie Jane Rembold    71.0\n",
            "54        Alicia Cervera    71.0\n",
            "58        Kendall Conrad    71.0\n",
            "65       Abigail LeVines    71.0\n",
            "51      Anjeline Arnakis    71.0\n",
            "87      Gracelynn Wolzen    71.0\n",
            "89          Gabby Gealey    71.0\n",
            "94      Kyleigh McDermit    71.0\n"
          ]
        }
      ]
    },
    {
      "cell_type": "code",
      "source": [
        "#shortest women volleyball\n",
        "sorted_women_volleyball = women_volleyball_data.sort_values(by = 'Height',ascending = True)\n",
        "shortest_5_heights_women = sorted_women_volleyball['Height'].unique()[:5]\n",
        "shortest_5_heights_women\n",
        "shortest_women_volleyball = sorted_women_volleyball[sorted_women_volleyball['Height'].isin(shortest_5_heights_women)]\n",
        "shortest_women_volleyball\n",
        "print(f'The shortest 5 heights of the women volleyball players:{shortest_5_heights_women}')\n",
        "print(f'The count of the number of players with shortest 5 heights:{shortest_women_volleyball.count()}')\n",
        "print(shortest_women_volleyball[['Name','Height']])"
      ],
      "metadata": {
        "colab": {
          "base_uri": "https://localhost:8080/"
        },
        "id": "i0WtZI4DrmUb",
        "outputId": "61c6d987-5a95-4be3-edbd-79ff8a51d7ba"
      },
      "execution_count": null,
      "outputs": [
        {
          "output_type": "stream",
          "name": "stdout",
          "text": [
            "The shortest 5 heights of the women volleyball players:[60. 61. 62. 63. 64.]\n",
            "The count of the number of players with shortest 5 heights:Name      27\n",
            "Height    27\n",
            "dtype: int64\n",
            "                    Name  Height\n",
            "26         Samara Correa    60.0\n",
            "1       Yisneily Morales    61.0\n",
            "4        Garyana Altidor    61.0\n",
            "34         Rashel Torres    61.0\n",
            "17         Jasmine  Vega    61.0\n",
            "71         Libby Nickels    61.0\n",
            "27       Genesis Sigaran    62.0\n",
            "39     Brianna Rodriguez    62.0\n",
            "81  Salma Villa  Morales    62.0\n",
            "16       Shamonie Miller    62.0\n",
            "24       Devina  Luckhoo    63.0\n",
            "59            Sarah Munn    63.0\n",
            "32          Nyla  Rivera    63.0\n",
            "72      Guilia Rodrigues    63.0\n",
            "36       Justine Pomales    63.0\n",
            "8          Teonnie Blake    63.0\n",
            "77         Kaitlyn Houck    63.0\n",
            "35      Marisabel Pujols    64.0\n",
            "9            Kamya Hayes    64.0\n",
            "33          Sahara Ramos    64.0\n",
            "38         Nicole  Rosas    64.0\n",
            "40  Maynee De Los Santos    64.0\n",
            "6    Cheyenne Gray-Taitt    64.0\n",
            "30          Natalie Mora    64.0\n",
            "93         Myka Costanzo    64.0\n",
            "29          Mariali Sosa    64.0\n",
            "0            Crystal Saw    64.0\n"
          ]
        }
      ]
    },
    {
      "cell_type": "markdown",
      "source": [
        "8. Generate a bar graph showing the average height distribution across the 4 different team\n",
        "categories. (mens’ swimming, men’s volleyball, women’s swimming, women’s volleyball)."
      ],
      "metadata": {
        "id": "nAYeoJWZonvL"
      }
    },
    {
      "cell_type": "code",
      "source": [
        "average_heights = {\n",
        "    'Men\\'s Swimming': 71.36,\n",
        "    'Women\\'s Swimming': 65.86,\n",
        "    'Men\\'s Volleyball': 72.46,\n",
        "    'Women\\'s Volleyball': 66.98\n",
        "}\n",
        "\n",
        "# Extract team names and average heights\n",
        "teams = list(average_heights.keys())\n",
        "heights = list(average_heights.values())\n",
        "\n",
        "# Create a bar chart\n",
        "plt.figure(figsize=(8, 5))\n",
        "plt.bar(teams, heights, color=['skyblue', 'lightcoral', 'lightgreen', 'orange'])\n",
        "plt.xlabel('Teams')\n",
        "plt.ylabel('Average Height (inches)')\n",
        "plt.title('Average Height Distribution Across Teams')\n",
        "plt.ylim(60, 75)  # Set the y-axis limits to a reasonable range\n",
        "# Display the chart\n",
        "plt.tight_layout()\n",
        "plt.show()"
      ],
      "metadata": {
        "colab": {
          "base_uri": "https://localhost:8080/",
          "height": 507
        },
        "id": "g0y31PdmlMIi",
        "outputId": "6abeeef6-7974-4cf2-dda8-ec94c2606f31"
      },
      "execution_count": null,
      "outputs": [
        {
          "output_type": "display_data",
          "data": {
            "text/plain": [
              "<Figure size 800x500 with 1 Axes>"
            ],
            "image/png": "[encoded data removed]"
          },
          "metadata": {}
        }
      ]
    }
  ]
}