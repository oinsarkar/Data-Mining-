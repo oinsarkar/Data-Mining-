{
  "nbformat": 4,
  "nbformat_minor": 0,
  "metadata": {
    "colab": {
      "provenance": []
    },
    "kernelspec": {
      "name": "python3",
      "display_name": "Python 3"
    },
    "language_info": {
      "name": "python"
    }
  },
  "cells": [
    {
      "cell_type": "code",
      "execution_count": 2,
      "metadata": {
        "id": "dvWop2KxaWGo"
      },
      "outputs": [],
      "source": [
        "import requests\n",
        "from bs4 import BeautifulSoup\n",
        "import pandas as pd\n",
        "import numpy as np\n",
        "import matplotlib.pyplot as plt\n",
        "import seaborn as sns"
      ]
    },
    {
      "cell_type": "code",
      "source": [
        "def scrape_athlete_data(url):\n",
        "    \"\"\"Scrapes athlete names and heights from a given URL.\n",
        "\n",
        "    Args:\n",
        "        url (str): The URL of the roster page.\n",
        "\n",
        "    Returns:\n",
        "        pd.DataFrame: A DataFrame containing athlete names and heights, or None if an error occurs.\n",
        "    \"\"\"\n",
        "\n",
        "    try:\n",
        "        response = requests.get(url)\n",
        "        soup = BeautifulSoup(response.content, 'html.parser')\n",
        "\n",
        "        raw_heights = soup.find_all('td', class_='height')\n",
        "        raw_names = soup.find_all('td', class_='sidearm-table-player-name')\n",
        "\n",
        "        if not raw_heights or not raw_names:\n",
        "            return None\n",
        "\n",
        "        heights = []\n",
        "        names = []\n",
        "        for height, name in zip(raw_heights, raw_names):\n",
        "            height_str = height.text.strip()\n",
        "            if height_str:\n",
        "                if '-' in height_str:\n",
        "                    try:\n",
        "                        feet, inches = map(float, height_str.split('-'))\n",
        "                        height_in_inches = feet * 12 + inches\n",
        "                        heights.append(height_in_inches)\n",
        "                    except ValueError:\n",
        "                        print(f\"Invalid height format for {name.text}: {height_str}\")\n",
        "                        heights.append(None)\n",
        "                else:\n",
        "                    print(f\"Unexpected height format for {name.text}: {height_str}\")\n",
        "                    heights.append(None)\n",
        "            else:\n",
        "                # Handle missing height values\n",
        "                heights.append(None)\n",
        "            names.append(name.text.strip())\n",
        "\n",
        "        athletes = {'Name': names, 'Height': heights}\n",
        "        return pd.DataFrame(athletes)\n",
        "    except Exception as e:\n",
        "        print(f\"Error scraping {url}: {e}\")\n",
        "        return None\n",
        "\n",
        "def main():\n",
        "    # List of URLs for men's volleyball teams\n",
        "    mens_volleyball_urls = [\n",
        "    'https://ccnyathletics.com/sports/mens-volleyball/roster',\n",
        "    'https://lehmanathletics.com/sports/mens-volleyball/roster',\n",
        "    'https://www.brooklyncollegeathletics.com/sports/mens-volleyball/roster',\n",
        "    'https://johnjayathletics.com/sports/mens-volleyball/roster',\n",
        "    'https://athletics.baruch.cuny.edu/sports/mens-volleyball/roster',\n",
        "    'https://mecathletics.com/sports/mens-volleyball/roster',\n",
        "    'https://www.huntercollegeathletics.com/sports/mens-volleyball/roster',\n",
        "    'https://yorkathletics.com/sports/mens-volleyball/roster',\n",
        "    'https://ballstatesports.com/sports/mens-volleyball/roster'\n",
        "    ]\n",
        "\n",
        "    # Create an empty DataFrame to store all data\n",
        "    mens_volleyball_data = pd.DataFrame(columns=['Name', 'Height'])\n",
        "\n",
        "    # Scrape data from each URL and handle errors\n",
        "    for url in mens_volleyball_urls:\n",
        "        data = scrape_athlete_data(url)\n",
        "        if data is not None:\n",
        "            mens_volleyball_data = pd.concat([mens_volleyball_data, data], ignore_index=True)\n",
        "\n",
        "    # Save data to CSV file\n",
        "    mens_volleyball_data.to_csv('mens_volleyball_data.csv', index=False)\n",
        "\n",
        "if __name__ == '__main__':\n",
        "    main()"
      ],
      "metadata": {
        "colab": {
          "base_uri": "https://localhost:8080/"
        },
        "id": "FWXSm7FgagiR",
        "outputId": "c6d59979-d60f-411e-9ddd-44637f562c45"
      },
      "execution_count": 3,
      "outputs": [
        {
          "output_type": "stream",
          "name": "stdout",
          "text": [
            "Invalid height format for \n",
            "Tylar Pina\n",
            ": -\n"
          ]
        }
      ]
    },
    {
      "cell_type": "markdown",
      "source": [
        "Data Loading and Data Cleaning"
      ],
      "metadata": {
        "id": "yxAx8T4Q1IxO"
      }
    },
    {
      "cell_type": "code",
      "source": [
        "men_volleyball_data = pd.read_csv('mens_volleyball_data.csv')\n",
        "men_volleyball_data = men_volleyball_data.dropna(subset=['Height'])"
      ],
      "metadata": {
        "id": "xECRlIZe1IBC"
      },
      "execution_count": 4,
      "outputs": []
    },
    {
      "cell_type": "markdown",
      "source": [
        "Find the average height in each of the 4 dataframes (so you should have 4 averages in total). Print these values in your program"
      ],
      "metadata": {
        "id": "sJ7-aF1g1l3v"
      }
    },
    {
      "cell_type": "code",
      "source": [
        "average_men_volleyball_height = men_volleyball_data['Height'].mean()\n",
        "average_men_volleyball_height = average_men_volleyball_height.round(2)\n",
        "print(f'Average height of men volleyball: {average_men_volleyball_height}')"
      ],
      "metadata": {
        "colab": {
          "base_uri": "https://localhost:8080/"
        },
        "id": "nHC6p6Vu1mVN",
        "outputId": "634df527-b734-40bd-e7c4-6f3245013b12"
      },
      "execution_count": 5,
      "outputs": [
        {
          "output_type": "stream",
          "name": "stdout",
          "text": [
            "Average height of men volleyball: 72.46\n"
          ]
        }
      ]
    },
    {
      "cell_type": "markdown",
      "source": [
        "Find the names and the heights of the athletes with the 5 tallest and 5 shortest heights for both the men’s and women’s teams. Note: There could be ties among the athletes. For example, 8 athletes could have the top 5 tallest heights. You must have 8 lists in total: tallest men swimmers, tallest men volleyball players, tallest women swimmers, tallest women volleyball players, shortest men swimmers, shortest men volleyball players, shortest women volleyball players, shortest women swimmers. Print these names and heights ONLY in your program."
      ],
      "metadata": {
        "id": "WvmmC8ub2L1k"
      }
    },
    {
      "cell_type": "code",
      "source": [
        "#tallest men volleyball\n",
        "sorted_men_volleyball = men_volleyball_data.sort_values(by = 'Height',ascending = False)\n",
        "top_5_heights_men = sorted_men_volleyball['Height'].unique()[:5]\n",
        "top_5_heights_men\n",
        "tallest_men_volleyball = sorted_men_volleyball[sorted_men_volleyball['Height'].isin(top_5_heights_men)]\n",
        "tallest_men_volleyball\n",
        "print(f'The top 5 heights of the men volleyball players:{top_5_heights_men}')\n",
        "print(f'The count of the number of players with top 5 heights:{tallest_men_volleyball.count()}')\n",
        "print(tallest_men_volleyball[['Name','Height']])"
      ],
      "metadata": {
        "colab": {
          "base_uri": "https://localhost:8080/"
        },
        "id": "F32RmkqI2U8t",
        "outputId": "c2710c9d-373b-452c-8142-633647f3b899"
      },
      "execution_count": 6,
      "outputs": [
        {
          "output_type": "stream",
          "name": "stdout",
          "text": [
            "The top 5 heights of the men volleyball players:[82. 81. 79. 78. 77.]\n",
            "The count of the number of players with top 5 heights:Name      23\n",
            "Height    23\n",
            "dtype: int64\n",
            "                       Name  Height\n",
            "129         Will  Patterson    82.0\n",
            "130          Mateusz Karpow    81.0\n",
            "128          Patrick Rogers    79.0\n",
            "127  Braydon Savitski-Lynde    79.0\n",
            "93           Annes Deljanin    79.0\n",
            "54    Kyle Barriffe-Johnson    79.0\n",
            "114     Griffin Satterfield    79.0\n",
            "131         Peter  Zurawski    78.0\n",
            "121             Eyal Rawitz    78.0\n",
            "96             Jon Pflueger    78.0\n",
            "115         Trevor Phillips    78.0\n",
            "116          Vanis Buckholz    78.0\n",
            "118          Rodney Wallace    78.0\n",
            "117           Lucas Machado    78.0\n",
            "98       Matisse Lee-Maarek    78.0\n",
            "122               Dyer Ball    78.0\n",
            "126   Tinaishe Ndavazocheva    78.0\n",
            "69                Haoxin Hu    77.0\n",
            "33                Jason Lin    77.0\n",
            "102         Austinson Cooke    77.0\n",
            "120              Ryan Bartz    77.0\n",
            "89             Lucas George    77.0\n",
            "123           Marty Canavan    77.0\n"
          ]
        }
      ]
    },
    {
      "cell_type": "code",
      "source": [
        "#shortest men volleyball\n",
        "sorted_men_volleyball = men_volleyball_data.sort_values(by = 'Height',ascending = True)\n",
        "shortest_5_heights_men = sorted_men_volleyball['Height'].unique()[:5]\n",
        "shortest_5_heights_men\n",
        "shortest_men_volleyball = sorted_men_volleyball[sorted_men_volleyball['Height'].isin(shortest_5_heights_men)]\n",
        "shortest_men_volleyball\n",
        "print(f'The shortest 5 heights of the men volleyball players:{shortest_5_heights_men}')\n",
        "print(f'The count of the number of players with shortest 5 heights:{shortest_men_volleyball.count()}')\n",
        "print(shortest_men_volleyball[['Name','Height']])"
      ],
      "metadata": {
        "colab": {
          "base_uri": "https://localhost:8080/"
        },
        "id": "m0cZaEum2X4v",
        "outputId": "822b2d18-ee38-443c-8393-7112fddebbcb"
      },
      "execution_count": 7,
      "outputs": [
        {
          "output_type": "stream",
          "name": "stdout",
          "text": [
            "The shortest 5 heights of the men volleyball players:[63. 65. 66. 67. 68.]\n",
            "The count of the number of players with shortest 5 heights:Name      26\n",
            "Height    26\n",
            "dtype: int64\n",
            "                        Name  Height\n",
            "14               Chris  Mata    63.0\n",
            "27           Dion  Csikortos    65.0\n",
            "26                  Wai  Lin    65.0\n",
            "13   Joseph Gianfranco Teves    65.0\n",
            "79            Kayshaun Higgs    66.0\n",
            "25               Ali Zandani    66.0\n",
            "78             Patrick Mateo    66.0\n",
            "42             Benjamin Chen    66.0\n",
            "66                Naoki Tani    67.0\n",
            "19           Christian Agudo    67.0\n",
            "16               Jimmy Evans    67.0\n",
            "12             Ray Rodriguez    67.0\n",
            "82               Brandon Yeh    67.0\n",
            "7         David Reyes Galvez    67.0\n",
            "112              Xander Pink    67.0\n",
            "46            Evan Wandersee    68.0\n",
            "106         Stanley  Sanchez    68.0\n",
            "30                David Lema    68.0\n",
            "48   Daniel Gonzalez Verdejo    68.0\n",
            "43       Sebastian Rodriguez    68.0\n",
            "72              Carlos Abreu    68.0\n",
            "40             Micah Rossman    68.0\n",
            "104           Alexis Ramirez    68.0\n",
            "24               Kevin Seise    68.0\n",
            "2       Edwin Fierros Gaytan    68.0\n",
            "3               Anirudha Das    68.0\n"
          ]
        }
      ]
    }
  ]
}