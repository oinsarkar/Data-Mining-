{
  "nbformat": 4,
  "nbformat_minor": 0,
  "metadata": {
    "colab": {
      "provenance": []
    },
    "kernelspec": {
      "name": "python3",
      "display_name": "Python 3"
    },
    "language_info": {
      "name": "python"
    }
  },
  "cells": [
    {
      "cell_type": "code",
      "source": [
        "import requests\n",
        "from bs4 import BeautifulSoup\n",
        "import pandas as pd\n",
        "import numpy as np\n",
        "import matplotlib.pyplot as plt\n",
        "import seaborn as sns"
      ],
      "metadata": {
        "id": "gdzN1jH4Y5yx"
      },
      "execution_count": 3,
      "outputs": []
    },
    {
      "cell_type": "code",
      "execution_count": 2,
      "metadata": {
        "colab": {
          "base_uri": "https://localhost:8080/"
        },
        "id": "rOAD03YtQYeU",
        "outputId": "16aa9e09-a1cc-41d4-b282-d531297db271"
      },
      "outputs": [
        {
          "output_type": "stream",
          "name": "stdout",
          "text": [
            "Invalid height format for \n",
            "Aziz Abdusamiev\n",
            ": -\n",
            "Invalid height format for \n",
            "Aaron Brijbukhan\n",
            ": -\n",
            "Invalid height format for \n",
            "Zurab Chkhartishvili\n",
            ": -\n",
            "Invalid height format for \n",
            "Carlos Garcia-Nunez\n",
            ": -\n",
            "Invalid height format for \n",
            "Daniel Kalinin\n",
            ": -\n",
            "Invalid height format for \n",
            "Michael Kravets\n",
            ": -\n",
            "Invalid height format for \n",
            "Nicholai Krylyuk\n",
            ": -\n",
            "Invalid height format for \n",
            "Ian Lichaniu\n",
            ": -\n",
            "Invalid height format for \n",
            "Allen Mardakhayev\n",
            ": -\n",
            "Invalid height format for \n",
            "Mujibar Shaad\n",
            ": -\n",
            "Invalid height format for \n",
            "Jaxon Bradburn\n",
            ": -\n",
            "Invalid height format for \n",
            "Ondrej Dusa\n",
            ": -\n",
            "Invalid height format for \n",
            "Lance Godard\n",
            ": -\n",
            "Invalid height format for \n",
            "Piotr Kowalczyk\n",
            ": -\n",
            "Invalid height format for \n",
            "Bennet Loving\n",
            ": -\n",
            "Invalid height format for \n",
            "Polat Tasbasi\n",
            ": -\n",
            "Invalid height format for \n",
            "Max Wetteland\n",
            ": -\n",
            "Invalid height format for \n",
            "Nick Williams\n",
            ": -\n"
          ]
        }
      ],
      "source": [
        "\n",
        "def scrape_athlete_data(url):\n",
        "    \"\"\"Scrapes athlete names and heights from a given URL.\n",
        "\n",
        "    Args:\n",
        "        url (str): The URL of the roster page.\n",
        "\n",
        "    Returns:\n",
        "        pd.DataFrame: A DataFrame containing athlete names and heights, or None if an error occurs.\n",
        "    \"\"\"\n",
        "\n",
        "    try:\n",
        "        response = requests.get(url)\n",
        "        soup = BeautifulSoup(response.content, 'html.parser')\n",
        "\n",
        "        raw_heights = soup.find_all('td', class_='height')\n",
        "        raw_names = soup.find_all('td', class_='sidearm-table-player-name')\n",
        "\n",
        "        if not raw_heights or not raw_names:\n",
        "            return None\n",
        "\n",
        "        heights = []\n",
        "        names = []\n",
        "        for height, name in zip(raw_heights, raw_names):\n",
        "            height_str = height.text.strip()\n",
        "            if height_str:\n",
        "                if '-' in height_str:\n",
        "                    try:\n",
        "                        feet, inches = map(float, height_str.split('-'))\n",
        "                        height_in_inches = feet * 12 + inches\n",
        "                        heights.append(height_in_inches)\n",
        "                    except ValueError:\n",
        "                        print(f\"Invalid height format for {name.text}: {height_str}\")\n",
        "                        heights.append(None)\n",
        "                else:\n",
        "                    print(f\"Unexpected height format for {name.text}: {height_str}\")\n",
        "                    heights.append(None)\n",
        "            else:\n",
        "                # Handle missing height values\n",
        "                heights.append(None)\n",
        "            names.append(name.text.strip())\n",
        "\n",
        "        athletes = {'Name': names, 'Height': heights}\n",
        "        return pd.DataFrame(athletes)\n",
        "    except Exception as e:\n",
        "        print(f\"Error scraping {url}: {e}\")\n",
        "        return None\n",
        "\n",
        "def main():\n",
        "    # List of URLs for men's swimming teams\n",
        "    mens_swimming_urls = [\n",
        "      'https://csidolphins.com/sports/mens-swimming-and-diving/roster',\n",
        "      'https://yorkathletics.com/sports/mens-swimming-and-diving/roster',\n",
        "      'https://athletics.baruch.cuny.edu/sports/mens-swimming-and-diving/roster',\n",
        "      'https://www.brooklyncollegeathletics.com/sports/mens-swimming-and-diving/roster',\n",
        "      'https://lindenwoodlions.com/sports/mens-swimming-and-diving/roster',\n",
        "      'https://mckbearcats.com/sports/mens-swimming-and-diving/roster',\n",
        "      'https://ramapoathletics.com/sports/mens-swimming-and-diving/roster',\n",
        "      'https://oneontaathletics.com/sports/mens-swimming-and-diving/roster',\n",
        "      'https://bubearcats.com/sports/mens-swimming-and-diving/roster/2021-22',\n",
        "      'https://albrightathletics.com/sports/mens-swimming-and-diving/roster/2021-22'\n",
        "\n",
        "    ]\n",
        "\n",
        "    # Create an empty DataFrame to store all data\n",
        "    mens_swimming_data = pd.DataFrame(columns=['Name', 'Height'])\n",
        "\n",
        "    # Scrape data from each URL and handle errors\n",
        "    for url in mens_swimming_urls:\n",
        "        data = scrape_athlete_data(url)\n",
        "        if data is not None:\n",
        "            mens_swimming_data = pd.concat([mens_swimming_data, data], ignore_index=True)\n",
        "\n",
        "    # Save data to CSV file\n",
        "    mens_swimming_data.to_csv('mens_swimming_data.csv', index=False)\n",
        "\n",
        "if __name__ == '__main__':\n",
        "    main()"
      ]
    },
    {
      "cell_type": "markdown",
      "source": [
        "Data loading and data cleaning"
      ],
      "metadata": {
        "id": "ym-oPMX80WJK"
      }
    },
    {
      "cell_type": "code",
      "source": [
        "men_swimming_data = pd.read_csv('mens_swimming_data.csv')\n",
        "men_swimming_data = men_swimming_data.dropna(subset=['Height'])"
      ],
      "metadata": {
        "id": "AtdQnAHCv7gL"
      },
      "execution_count": 4,
      "outputs": []
    },
    {
      "cell_type": "markdown",
      "source": [
        "Find the average height in each of the 4 dataframes (so you should have 4 averages in total). Print these values in your program"
      ],
      "metadata": {
        "id": "UzKkx4LL0UR4"
      }
    },
    {
      "cell_type": "code",
      "source": [
        "average_men_swimming_height = men_swimming_data['Height'].mean()\n",
        "average_men_swimming_height = average_men_swimming_height.round(2)\n",
        "print(f'Average height of men swimming: {average_men_swimming_height}')"
      ],
      "metadata": {
        "colab": {
          "base_uri": "https://localhost:8080/"
        },
        "id": "oQt_VlBO0UuD",
        "outputId": "a5127ac4-fee3-4ae7-c0c5-14a980ef441d"
      },
      "execution_count": 5,
      "outputs": [
        {
          "output_type": "stream",
          "name": "stdout",
          "text": [
            "Average height of men swimming: 71.36\n"
          ]
        }
      ]
    },
    {
      "cell_type": "markdown",
      "source": [
        "Find the names and the heights of the athletes with the 5 tallest and 5 shortest heights for both the men’s and women’s teams. Note: There could be ties among the athletes. For example, 8 athletes could have the top 5 tallest heights. You must have 8 lists in total: tallest men swimmers, tallest men volleyball players, tallest women swimmers, tallest women volleyball players, shortest men swimmers, shortest men volleyball players, shortest women volleyball players, shortest women swimmers. Print these names and heights ONLY in your program."
      ],
      "metadata": {
        "id": "XRdsx6ng0e6F"
      }
    },
    {
      "cell_type": "code",
      "source": [
        "#tallest men swimmers\n",
        "sorted_men_swimmers = men_swimming_data.sort_values(by = 'Height',ascending = False)\n",
        "top_5_heights_men = sorted_men_swimmers['Height'].unique()[:5]\n",
        "top_5_heights_men\n",
        "tallest_men_swimmers = sorted_men_swimmers[sorted_men_swimmers['Height'].isin(top_5_heights_men)]\n",
        "tallest_men_swimmers\n",
        "print(f'The top 5 heights of the men swimmers:{top_5_heights_men}')\n",
        "print(f'The count of the number of players with top 5 heights:{tallest_men_swimmers.count()}')\n",
        "print(tallest_men_swimmers[['Name','Height']])"
      ],
      "metadata": {
        "colab": {
          "base_uri": "https://localhost:8080/"
        },
        "id": "C810p7Bk0fOm",
        "outputId": "b79b39f9-16fe-4000-dea8-da37483bdef5"
      },
      "execution_count": 6,
      "outputs": [
        {
          "output_type": "stream",
          "name": "stdout",
          "text": [
            "The top 5 heights of the men swimmers:[79. 77. 76. 75. 74.]\n",
            "The count of the number of players with top 5 heights:Name      34\n",
            "Height    34\n",
            "dtype: int64\n",
            "                  Name  Height\n",
            "115        Tyson Upton    79.0\n",
            "92       Colton Grimes    79.0\n",
            "164         Eric Kroon    77.0\n",
            "26       Peter Gavroff    76.0\n",
            "75       Adam Szczerba    76.0\n",
            "180  Nicholas Griffith    76.0\n",
            "62   Mattia Giurgevich    76.0\n",
            "31      Bennett Maczka    76.0\n",
            "110     Matthew Stooke    76.0\n",
            "160      Brian Harding    76.0\n",
            "129          Joe Swede    75.0\n",
            "24   Youssef  Elkhouly    75.0\n",
            "150      Gavin Weseman    75.0\n",
            "108     Patryk Rozenek    75.0\n",
            "186   Peter Vanderwerf    75.0\n",
            "126          Jack Hill    75.0\n",
            "43     Ryan Badre-Hume    75.0\n",
            "167       Ryan Maierle    75.0\n",
            "82       Owen Brubaker    75.0\n",
            "175       Henry Shemet    75.0\n",
            "94        Ethan Hanson    75.0\n",
            "107     Nathan Pollard    74.0\n",
            "55      Isaac Zambrano    74.0\n",
            "112         Noah Tague    74.0\n",
            "56        Ryan Boeding    74.0\n",
            "120       Thomas Breen    74.0\n",
            "85      Patrick Cramer    74.0\n",
            "128        Tyler Moore    74.0\n",
            "165     Elijah Lanfear    74.0\n",
            "143   Cosmo Martinelli    74.0\n",
            "174     Robert Reining    74.0\n",
            "172    Matthew Palguta    74.0\n",
            "169        Justin Meyn    74.0\n",
            "67       Elliott Irwin    74.0\n"
          ]
        }
      ]
    },
    {
      "cell_type": "code",
      "source": [
        "#shortest men swimmers\n",
        "sorted_men_swimmers = men_swimming_data.sort_values(by = 'Height',ascending = True)\n",
        "shortest_5_heights_men = sorted_men_swimmers['Height'].unique()[:5]\n",
        "shortest_5_heights_men\n",
        "shortest_men_swimmers = sorted_men_swimmers[sorted_men_swimmers['Height'].isin(shortest_5_heights_men)]\n",
        "shortest_men_swimmers\n",
        "print(f'The shortest 5 heights of the men swimmers:{shortest_5_heights_men}')\n",
        "print(f'The count of the number of players with shortest 5 heights:{shortest_men_swimmers.count()}')\n",
        "print(shortest_men_swimmers[['Name','Height']])"
      ],
      "metadata": {
        "colab": {
          "base_uri": "https://localhost:8080/"
        },
        "id": "oDgvTGyz0oil",
        "outputId": "0b788018-ce83-41b5-e332-9caef00369e3"
      },
      "execution_count": 7,
      "outputs": [
        {
          "output_type": "stream",
          "name": "stdout",
          "text": [
            "The shortest 5 heights of the men swimmers:[63. 64. 65. 66. 67.]\n",
            "The count of the number of players with shortest 5 heights:Name      15\n",
            "Height    15\n",
            "dtype: int64\n",
            "                  Name  Height\n",
            "89     Miles Fleischer    63.0\n",
            "2     Charles Cusumano    64.0\n",
            "97         Wyatt Kurtz    65.0\n",
            "53    Joseph Scarpetta    65.0\n",
            "122     Samuel De Leon    65.0\n",
            "20       Richard Reyes    66.0\n",
            "158   Christopher Egan    66.0\n",
            "125         AJ Guevara    66.0\n",
            "155    Zachary Ciriaco    66.0\n",
            "142   James  Llewellyn    66.0\n",
            "121      Tyler Canteen    66.0\n",
            "88      Mason Enthoven    67.0\n",
            "5        Eslam Hussein    67.0\n",
            "36   Gregory Terentyev    67.0\n",
            "14       Sam Rozenfeld    67.0\n"
          ]
        }
      ]
    }
  ]
}