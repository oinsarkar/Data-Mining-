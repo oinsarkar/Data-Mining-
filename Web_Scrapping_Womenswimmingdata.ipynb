{
  "nbformat": 4,
  "nbformat_minor": 0,
  "metadata": {
    "colab": {
      "provenance": []
    },
    "kernelspec": {
      "name": "python3",
      "display_name": "Python 3"
    },
    "language_info": {
      "name": "python"
    }
  },
  "cells": [
    {
      "cell_type": "code",
      "execution_count": 3,
      "metadata": {
        "id": "5N66n9xPXu8-"
      },
      "outputs": [],
      "source": [
        "import requests\n",
        "from bs4 import BeautifulSoup\n",
        "import pandas as pd\n",
        "import numpy as np\n",
        "import matplotlib.pyplot as plt\n",
        "import seaborn as sns"
      ]
    },
    {
      "cell_type": "code",
      "source": [
        "def scrape_athlete_data(url):\n",
        "    \"\"\"Scrapes athlete names and heights from a given URL.\n",
        "\n",
        "    Args:\n",
        "        url (str): The URL of the roster page.\n",
        "\n",
        "    Returns:\n",
        "        pd.DataFrame: A DataFrame containing athlete names and heights, or None if an error occurs.\n",
        "    \"\"\"\n",
        "\n",
        "    try:\n",
        "        response = requests.get(url)\n",
        "        soup = BeautifulSoup(response.content, 'html.parser')\n",
        "\n",
        "        raw_heights = soup.find_all('td', class_='height')\n",
        "        raw_names = soup.find_all('td', class_='sidearm-table-player-name')\n",
        "\n",
        "        if not raw_heights or not raw_names:\n",
        "            return None\n",
        "\n",
        "        heights = []\n",
        "        names = []\n",
        "        for height, name in zip(raw_heights, raw_names):\n",
        "            height_str = height.text.strip()\n",
        "            if height_str:\n",
        "                if '-' in height_str:\n",
        "                    try:\n",
        "                        feet, inches = map(float, height_str.split('-'))\n",
        "                        height_in_inches = feet * 12 + inches\n",
        "                        heights.append(height_in_inches)\n",
        "                    except ValueError:\n",
        "                        print(f\"Invalid height format for {name.text}: {height_str}\")\n",
        "                        heights.append(None)\n",
        "                else:\n",
        "                    print(f\"Unexpected height format for {name.text}: {height_str}\")\n",
        "                    heights.append(None)\n",
        "            else:\n",
        "                # Handle missing height values\n",
        "                heights.append(None)\n",
        "            names.append(name.text.strip())\n",
        "\n",
        "        athletes = {'Name': names, 'Height': heights}\n",
        "        return pd.DataFrame(athletes)\n",
        "    except Exception as e:\n",
        "        print(f\"Error scraping {url}: {e}\")\n",
        "        return None\n",
        "\n",
        "def main():\n",
        "    # List of URLs for men's swimming teams\n",
        "    women_swimming_urls = [\n",
        "      'https://csidolphins.com/sports/womens-swimming-and-diving/roster',\n",
        "      'https://queensknights.com/sports/womens-swimming-and-diving/roster',\n",
        "      'https://yorkathletics.com/sports/womens-swimming-and-diving/roster',\n",
        "      'https://athletics.baruch.cuny.edu/sports/womens-swimming-and-diving/roster/2021-22?path=wswim',\n",
        "      'https://www.brooklyncollegeathletics.com/sports/womens-swimming-and-diving/roster',\n",
        "      'https://lindenwoodlions.com/sports/womens-swimming-and-diving/roster',\n",
        "      'https://mckbearcats.com/sports/womens-swimming-and-diving/roster',\n",
        "      'https://ramapoathletics.com/sports/womens-swimming-and-diving/roster',\n",
        "      'https://keanathletics.com/sports/womens-swimming-and-diving/roster',\n",
        "      'https://oneontaathletics.com/sports/womens-swimming-and-diving/roster',\n",
        "\n",
        "    ]\n",
        "\n",
        "    # Create an empty DataFrame to store all data\n",
        "    women_swimming_data = pd.DataFrame(columns=['Name', 'Height'])\n",
        "\n",
        "    # Scrape data from each URL and handle errors\n",
        "    for url in women_swimming_urls:\n",
        "        data = scrape_athlete_data(url)\n",
        "        if data is not None:\n",
        "            women_swimming_data = pd.concat([women_swimming_data, data], ignore_index=True)\n",
        "\n",
        "    # Save data to CSV file\n",
        "    women_swimming_data.to_csv('women_swimming_data.csv', index=False)\n",
        "\n",
        "if __name__ == '__main__':\n",
        "    main()"
      ],
      "metadata": {
        "colab": {
          "base_uri": "https://localhost:8080/"
        },
        "id": "IobgZjXmZdgT",
        "outputId": "29288641-5549-4cbc-d532-1eb13425baa6"
      },
      "execution_count": 4,
      "outputs": [
        {
          "output_type": "stream",
          "name": "stdout",
          "text": [
            "Invalid height format for \n",
            "Rupakshi Aggarwal\n",
            ": -\n",
            "Invalid height format for \n",
            "Claudia Cimino\n",
            ": -\n",
            "Invalid height format for \n",
            "Christine  Bailey\n",
            ": -\n",
            "Invalid height format for \n",
            "Elizabeth Bailey\n",
            ": -\n",
            "Invalid height format for \n",
            "Gurveen Dhallu\n",
            ": -\n",
            "Invalid height format for \n",
            "Ayatallah Elkotby\n",
            ": -\n",
            "Invalid height format for \n",
            "Erin  Forrest \n",
            ": -\n",
            "Invalid height format for \n",
            "Sydney Gdanski\n",
            ": -\n",
            "Invalid height format for \n",
            "Julie  Huang\n",
            ": -\n",
            "Invalid height format for \n",
            "Hailey Johnston\n",
            ": -\n",
            "Invalid height format for \n",
            "Anastasia Kutuzov\n",
            ": -\n",
            "Invalid height format for \n",
            "Diana Plasencia\n",
            ": -\n",
            "Invalid height format for \n",
            "Veronika Tsiko\n",
            ": -\n",
            "Invalid height format for \n",
            "Evi Blennert\n",
            ": -\n",
            "Invalid height format for \n",
            "Kayla Bulseco\n",
            ": -\n",
            "Invalid height format for \n",
            "Kathryn Chaves\n",
            ": -\n",
            "Invalid height format for \n",
            "Selena Corona\n",
            ": -\n",
            "Invalid height format for \n",
            "Maddie Lynch\n",
            ": -\n",
            "Invalid height format for \n",
            "Lucy Price\n",
            ": -\n",
            "Invalid height format for \n",
            "Calahan Williams\n",
            ": -\n",
            "Invalid height format for \n",
            "Emma Grefski\n",
            ": -\n"
          ]
        }
      ]
    },
    {
      "cell_type": "markdown",
      "source": [
        "Data Loading and Data Cleaning"
      ],
      "metadata": {
        "id": "3FTYXdjS2107"
      }
    },
    {
      "cell_type": "code",
      "source": [
        "women_swimming_data = pd.read_csv('women_swimming_data.csv')\n",
        "women_swimming_data = women_swimming_data.dropna(subset=['Height'])"
      ],
      "metadata": {
        "id": "bnxfAR1Z22S2"
      },
      "execution_count": 5,
      "outputs": []
    },
    {
      "cell_type": "markdown",
      "source": [
        "Find the average height in each of the 4 dataframes (so you should have 4 averages in total). Print these values in your program"
      ],
      "metadata": {
        "id": "Bb_oOoxN3Ax4"
      }
    },
    {
      "cell_type": "code",
      "source": [
        "average_women_swimming_height = women_swimming_data['Height'].mean()\n",
        "average_women_swimming_height = average_women_swimming_height.round(2)\n",
        "print(f'Average height of women swimming: {average_women_swimming_height}')"
      ],
      "metadata": {
        "colab": {
          "base_uri": "https://localhost:8080/"
        },
        "id": "jaXTHk7o3DA8",
        "outputId": "083c9bd4-31bf-46c6-b307-d5922345a499"
      },
      "execution_count": 6,
      "outputs": [
        {
          "output_type": "stream",
          "name": "stdout",
          "text": [
            "Average height of women swimming: 65.86\n"
          ]
        }
      ]
    },
    {
      "cell_type": "markdown",
      "source": [
        "Find the names and the heights of the athletes with the 5 tallest and 5 shortest heights for both the men’s and women’s teams. Note: There could be ties among the athletes. For example, 8 athletes could have the top 5 tallest heights. You must have 8 lists in total: tallest men swimmers, tallest men volleyball players, tallest women swimmers, tallest women volleyball players, shortest men swimmers, shortest men volleyball players, shortest women volleyball players, shortest women swimmers. Print these names and heights ONLY in your program."
      ],
      "metadata": {
        "id": "_7atF5No3Ur4"
      }
    },
    {
      "cell_type": "code",
      "source": [
        "#tallest women swimmers\n",
        "sorted_women_swimmers = women_swimming_data.sort_values(by = 'Height',ascending = False)\n",
        "top_5_heights_women = sorted_women_swimmers['Height'].unique()[:5]\n",
        "top_5_heights_women\n",
        "tallest_women_swimmers = sorted_women_swimmers[sorted_women_swimmers['Height'].isin(top_5_heights_women)]\n",
        "tallest_women_swimmers\n",
        "print(f'The top 5 heights of the women swimmers:{top_5_heights_women}')\n",
        "print(f'The count of the number of players with top 5 heights:{tallest_women_swimmers.count()}')\n",
        "print(tallest_women_swimmers[['Name','Height']])"
      ],
      "metadata": {
        "colab": {
          "base_uri": "https://localhost:8080/"
        },
        "id": "iKQekaBw3aBe",
        "outputId": "0ec581fc-7586-466d-c3d7-8279a86b8470"
      },
      "execution_count": 7,
      "outputs": [
        {
          "output_type": "stream",
          "name": "stdout",
          "text": [
            "The top 5 heights of the women swimmers:[75. 73. 72. 71. 70.]\n",
            "The count of the number of players with top 5 heights:Name      13\n",
            "Height    13\n",
            "dtype: int64\n",
            "                     Name  Height\n",
            "78         McKenzie Fazio    75.0\n",
            "66        Maja Piotrowicz    73.0\n",
            "40     Hebatallah Elkotby    72.0\n",
            "51        Kornelia Buszka    71.0\n",
            "83      Presley Heitzmann    71.0\n",
            "115           Grace Geyer    71.0\n",
            "94      Karley Sonnenberg    70.0\n",
            "58              Adi Luker    70.0\n",
            "60        Stephanie Marks    70.0\n",
            "91   Gabriela Novais Lima    70.0\n",
            "88          Victoria Maki    70.0\n",
            "96          Jocelyn Zgola    70.0\n",
            "102           Grace Korey    70.0\n"
          ]
        }
      ]
    },
    {
      "cell_type": "code",
      "source": [
        "#shortest women swimmers\n",
        "sorted_women_swimmers = women_swimming_data.sort_values(by = 'Height',ascending = True)\n",
        "shortest_5_heights_women = sorted_women_swimmers['Height'].unique()[:5]\n",
        "shortest_5_heights_women\n",
        "shortest_women_swimmers = sorted_women_swimmers[sorted_women_swimmers['Height'].isin(shortest_5_heights_women)]\n",
        "shortest_women_swimmers\n",
        "print(f'Theshortest 5 heights of the women swimmers:{shortest_5_heights_women}')\n",
        "print(f'The count of the number of players with shortest 5 heights:{shortest_women_swimmers.count()}')\n",
        "print(shortest_women_swimmers[['Name','Height']])"
      ],
      "metadata": {
        "colab": {
          "base_uri": "https://localhost:8080/"
        },
        "id": "VShX7fkQ3gIs",
        "outputId": "42be6c3b-7e3e-478d-a66b-0a072c15b290"
      },
      "execution_count": 8,
      "outputs": [
        {
          "output_type": "stream",
          "name": "stdout",
          "text": [
            "Theshortest 5 heights of the women swimmers:[58. 59. 61. 62. 63.]\n",
            "The count of the number of players with shortest 5 heights:Name      31\n",
            "Height    31\n",
            "dtype: int64\n",
            "                   Name  Height\n",
            "25          Julia Wyman    58.0\n",
            "24          Nakia Usher    58.0\n",
            "23    Melanie Rodriguez    59.0\n",
            "13           Asha Besaw    61.0\n",
            "104       Valeria Pages    61.0\n",
            "103      Camila Mercado    61.0\n",
            "19       Kristen Flores    61.0\n",
            "29           Amanda Lee    61.0\n",
            "116     Taylor Jacobson    61.0\n",
            "8         Deanna Soueid    62.0\n",
            "132     Cadence  Dudley    62.0\n",
            "22      Fatima Morrobel    62.0\n",
            "98      Julia Caramagna    62.0\n",
            "7     Kolleen Rodriguez    62.0\n",
            "106       Magdalen Swat    62.0\n",
            "126     Kylie Tininenko    62.0\n",
            "143        Sophia Olson    62.0\n",
            "30        Katherine Lee    62.0\n",
            "101           Maddy Joe    62.0\n",
            "100          Keila Fane    62.0\n",
            "108         Cami Yovich    62.0\n",
            "35             Amy Zeng    62.0\n",
            "62     Beata Maruszczyk    63.0\n",
            "81           Atzi Gomez    63.0\n",
            "77   Terrah DeLorimiere    63.0\n",
            "0    Aurelia Barbagallo    63.0\n",
            "27    Joscelyn  Galindo    63.0\n",
            "119       Abbie Masters    63.0\n",
            "18        Jillian Etnel    63.0\n",
            "16   Laura Cruz Rosario    63.0\n",
            "28          Dea Gazheli    63.0\n"
          ]
        }
      ]
    }
  ]
}